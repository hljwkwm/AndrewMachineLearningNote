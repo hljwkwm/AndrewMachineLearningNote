{
 "cells": [
  {
   "cell_type": "code",
   "execution_count": 2,
   "metadata": {},
   "outputs": [
    {
     "name": "stdout",
     "output_type": "stream",
     "text": [
      "[0 1 2]\n",
      "[1.         2.71828183 7.3890561 ]\n",
      "[0.         1.         1.41421356]\n"
     ]
    }
   ],
   "source": [
    "import numpy as np\n",
    "B = np.arange(3)\n",
    "print(B)\n",
    "print(np.exp(B))\n",
    "print(np.sqrt(B))"
   ]
  },
  {
   "cell_type": "code",
   "execution_count": 3,
   "metadata": {},
   "outputs": [
    {
     "name": "stdout",
     "output_type": "stream",
     "text": [
      "[[8. 9. 4. 8.]\n",
      " [6. 8. 1. 6.]\n",
      " [1. 6. 7. 0.]]\n",
      "---------------\n",
      "(3, 4)\n",
      "---------------\n",
      "[8. 9. 4. 8. 6. 8. 1. 6. 1. 6. 7. 0.]\n",
      "[[8. 9.]\n",
      " [4. 8.]\n",
      " [6. 8.]\n",
      " [1. 6.]\n",
      " [1. 6.]\n",
      " [7. 0.]]\n",
      "[[8. 4. 6. 1. 1. 7.]\n",
      " [9. 8. 8. 6. 6. 0.]]\n",
      "None\n",
      "[[8. 9. 4. 8. 6. 8.]\n",
      " [1. 6. 1. 6. 7. 0.]]\n"
     ]
    },
    {
     "data": {
      "text/plain": [
       "array([[8., 9., 4., 8.],\n",
       "       [6., 8., 1., 6.],\n",
       "       [1., 6., 7., 0.]])"
      ]
     },
     "execution_count": 3,
     "metadata": {},
     "output_type": "execute_result"
    }
   ],
   "source": [
    "#Return the floor of the input\n",
    "a = np.floor(10*np.random.random((3,4)))\n",
    "print(a)\n",
    "print('---------------')\n",
    "print(a.shape)\n",
    "print('---------------')\n",
    "# flatten the array\n",
    "print(a.ravel())\n",
    "a.shape = (6, 2)\n",
    "print(a)\n",
    "print(a.T)\n",
    "print(a.resize((2,6)))\n",
    "\n",
    "#If a dimension is given as -1 in a reshaping operation, the other dimensions are automatically calculated:\n",
    "a.reshape(3,-1)"
   ]
  },
  {
   "cell_type": "code",
   "execution_count": 6,
   "metadata": {
    "scrolled": true
   },
   "outputs": [
    {
     "name": "stdout",
     "output_type": "stream",
     "text": [
      "[[3. 0.]\n",
      " [5. 9.]]\n",
      "-----\n",
      "[[8. 3.]\n",
      " [3. 5.]]\n",
      "-----\n",
      "[[3. 0. 8. 3.]\n",
      " [5. 9. 3. 5.]]\n",
      "-----\n",
      "[[3. 0.]\n",
      " [5. 9.]\n",
      " [8. 3.]\n",
      " [3. 5.]]\n"
     ]
    }
   ],
   "source": [
    "a = np.floor(10*np.random.random((2,2)))\n",
    "b = np.floor(10*np.random.random((2,2)))\n",
    "print(a)\n",
    "print('-----')\n",
    "print(b)\n",
    "print('-----')\n",
    "# 水平拼接\n",
    "print(np.hstack((a,b)))\n",
    "print('-----')\n",
    "# 垂直拼接\n",
    "print(np.vstack((a,b)))\n",
    "\n",
    "\n",
    "#np.hstack((a,b))"
   ]
  },
  {
   "cell_type": "code",
   "execution_count": 7,
   "metadata": {
    "scrolled": true
   },
   "outputs": [
    {
     "name": "stdout",
     "output_type": "stream",
     "text": [
      "[[1. 3. 8. 4. 5. 8. 8. 8. 8. 8. 2. 2.]\n",
      " [2. 3. 8. 9. 8. 7. 3. 4. 0. 4. 3. 4.]]\n",
      "[array([[1., 3., 8., 4.],\n",
      "       [2., 3., 8., 9.]]), array([[5., 8., 8., 8.],\n",
      "       [8., 7., 3., 4.]]), array([[8., 8., 2., 2.],\n",
      "       [0., 4., 3., 4.]])]\n",
      "[array([[1., 3., 8.],\n",
      "       [2., 3., 8.]]), array([[4.],\n",
      "       [9.]]), array([[5., 8., 8., 8., 8., 8., 2., 2.],\n",
      "       [8., 7., 3., 4., 0., 4., 3., 4.]])]\n",
      "[[5. 3.]\n",
      " [3. 3.]\n",
      " [1. 0.]\n",
      " [5. 3.]\n",
      " [6. 6.]\n",
      " [0. 9.]\n",
      " [9. 5.]\n",
      " [6. 4.]\n",
      " [1. 6.]\n",
      " [4. 4.]\n",
      " [9. 4.]\n",
      " [4. 2.]]\n",
      "[array([[5., 3.],\n",
      "       [3., 3.],\n",
      "       [1., 0.],\n",
      "       [5., 3.]]), array([[6., 6.],\n",
      "       [0., 9.],\n",
      "       [9., 5.],\n",
      "       [6., 4.]]), array([[1., 6.],\n",
      "       [4., 4.],\n",
      "       [9., 4.],\n",
      "       [4., 2.]])]\n"
     ]
    }
   ],
   "source": [
    "a = np.floor(10*np.random.random((2,12)))\n",
    "print(a)\n",
    "print(np.hsplit(a,3))\n",
    "print(np.hsplit(a,(3,4)))   # Split a after the third and the fourth column\n",
    "a = np.floor(10*np.random.random((12,2)))\n",
    "print(a)\n",
    "print(np.vsplit(a,3))"
   ]
  },
  {
   "cell_type": "code",
   "execution_count": 13,
   "metadata": {
    "scrolled": false
   },
   "outputs": [
    {
     "name": "stdout",
     "output_type": "stream",
     "text": [
      "True\n",
      "(3, 4)\n",
      "2239129219120\n",
      "2239129219120\n"
     ]
    }
   ],
   "source": [
    "#Simple assignments make no copy of array objects or of their data.\n",
    "a = np.arange(12)\n",
    "b = a\n",
    "# a and b are two names for the same ndarray object\n",
    "print(b is a)\n",
    "b.shape = (3,4)\n",
    "print(a.shape)\n",
    "print(id(a))\n",
    "print(id(b))"
   ]
  },
  {
   "cell_type": "code",
   "execution_count": 15,
   "metadata": {},
   "outputs": [
    {
     "name": "stdout",
     "output_type": "stream",
     "text": [
      "False\n",
      "(3, 4)\n",
      "[[   0    1    2    3]\n",
      " [1234    5    6    7]\n",
      " [   8    9   10   11]]\n",
      "2239129219120\n",
      "2239129219920\n"
     ]
    }
   ],
   "source": [
    "#The view method creates a new array object that looks at the same data.\n",
    "c = a.view()\n",
    "print(c is a)\n",
    "c.shape = 2,6\n",
    "print(a.shape)\n",
    "c[0,4] = 1234\n",
    "print(a)\n",
    "print(id(a))\n",
    "print(id(c))"
   ]
  },
  {
   "cell_type": "code",
   "execution_count": 16,
   "metadata": {},
   "outputs": [
    {
     "name": "stdout",
     "output_type": "stream",
     "text": [
      "False\n",
      "[[9999    1    2    3]\n",
      " [1234    5    6    7]\n",
      " [   8    9   10   11]]\n",
      "[[   0    1    2    3]\n",
      " [1234    5    6    7]\n",
      " [   8    9   10   11]]\n"
     ]
    }
   ],
   "source": [
    "#The copy method makes a complete copy of the array and its data.\n",
    "d = a.copy() \n",
    "print(d is a)\n",
    "d[0,0] = 9999\n",
    "print(d)\n",
    "print(a)"
   ]
  },
  {
   "cell_type": "code",
   "execution_count": null,
   "metadata": {
    "collapsed": true
   },
   "outputs": [],
   "source": []
  }
 ],
 "metadata": {
  "kernelspec": {
   "display_name": "Python 3",
   "language": "python",
   "name": "python3"
  },
  "language_info": {
   "codemirror_mode": {
    "name": "ipython",
    "version": 3
   },
   "file_extension": ".py",
   "mimetype": "text/x-python",
   "name": "python",
   "nbconvert_exporter": "python",
   "pygments_lexer": "ipython3",
   "version": "3.6.7"
  }
 },
 "nbformat": 4,
 "nbformat_minor": 1
}
