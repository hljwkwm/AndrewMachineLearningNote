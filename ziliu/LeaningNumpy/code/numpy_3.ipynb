{
 "cells": [
  {
   "cell_type": "code",
   "execution_count": 1,
   "metadata": {
    "scrolled": true
   },
   "outputs": [
    {
     "name": "stdout",
     "output_type": "stream",
     "text": [
      "[[ 0  1  2  3  4]\n",
      " [ 5  6  7  8  9]\n",
      " [10 11 12 13 14]]\n"
     ]
    }
   ],
   "source": [
    "import numpy as np\n",
    "a = np.arange(15).reshape(3, 5)\n",
    "print(a)"
   ]
  },
  {
   "cell_type": "code",
   "execution_count": 8,
   "metadata": {},
   "outputs": [
    {
     "name": "stdout",
     "output_type": "stream",
     "text": [
      "(3, 5)\n"
     ]
    }
   ],
   "source": [
    "a = np.arange(15).reshape(3, 5)\n",
    "print(a.shape)"
   ]
  },
  {
   "cell_type": "code",
   "execution_count": 9,
   "metadata": {},
   "outputs": [
    {
     "name": "stdout",
     "output_type": "stream",
     "text": [
      "2\n"
     ]
    }
   ],
   "source": [
    "#the number of axes (dimensions) of the array\n",
    "a = np.arange(15).reshape(3, 5)\n",
    "print(a.ndim)"
   ]
  },
  {
   "cell_type": "code",
   "execution_count": 10,
   "metadata": {},
   "outputs": [
    {
     "name": "stdout",
     "output_type": "stream",
     "text": [
      "int32\n"
     ]
    }
   ],
   "source": [
    "a = np.arange(15).reshape(3, 5)\n",
    "print(a.dtype.name)"
   ]
  },
  {
   "cell_type": "code",
   "execution_count": 12,
   "metadata": {},
   "outputs": [
    {
     "name": "stdout",
     "output_type": "stream",
     "text": [
      "15\n"
     ]
    }
   ],
   "source": [
    "#the total number of elements of the array\n",
    "a = np.arange(15).reshape(3, 5)\n",
    "print(a.size)"
   ]
  },
  {
   "cell_type": "code",
   "execution_count": 13,
   "metadata": {},
   "outputs": [
    {
     "data": {
      "text/plain": [
       "array([[0., 0., 0., 0.],\n",
       "       [0., 0., 0., 0.],\n",
       "       [0., 0., 0., 0.]])"
      ]
     },
     "execution_count": 13,
     "metadata": {},
     "output_type": "execute_result"
    }
   ],
   "source": [
    "np.zeros ((3,4)) "
   ]
  },
  {
   "cell_type": "code",
   "execution_count": 14,
   "metadata": {},
   "outputs": [
    {
     "data": {
      "text/plain": [
       "array([[[1, 1, 1, 1],\n",
       "        [1, 1, 1, 1],\n",
       "        [1, 1, 1, 1]],\n",
       "\n",
       "       [[1, 1, 1, 1],\n",
       "        [1, 1, 1, 1],\n",
       "        [1, 1, 1, 1]]])"
      ]
     },
     "execution_count": 14,
     "metadata": {},
     "output_type": "execute_result"
    }
   ],
   "source": [
    "np.ones( (2,3,4), dtype=np.int32 )"
   ]
  },
  {
   "cell_type": "code",
   "execution_count": 29,
   "metadata": {},
   "outputs": [
    {
     "data": {
      "text/plain": [
       "array([10, 15, 20, 25])"
      ]
     },
     "execution_count": 29,
     "metadata": {},
     "output_type": "execute_result"
    }
   ],
   "source": [
    "#To create sequences of numbers\n",
    "np.arange( 10, 30, 5 )"
   ]
  },
  {
   "cell_type": "code",
   "execution_count": 10,
   "metadata": {},
   "outputs": [
    {
     "data": {
      "text/plain": [
       "array([ 0. ,  0.3,  0.6,  0.9,  1.2,  1.5,  1.8])"
      ]
     },
     "execution_count": 10,
     "metadata": {},
     "output_type": "execute_result"
    }
   ],
   "source": [
    "np.arange( 0, 2, 0.3 )"
   ]
  },
  {
   "cell_type": "code",
   "execution_count": 14,
   "metadata": {},
   "outputs": [
    {
     "data": {
      "text/plain": [
       "array([[ 0,  1,  2],\n",
       "       [ 3,  4,  5],\n",
       "       [ 6,  7,  8],\n",
       "       [ 9, 10, 11]])"
      ]
     },
     "execution_count": 14,
     "metadata": {},
     "output_type": "execute_result"
    }
   ],
   "source": [
    "np.arange(12).reshape(4,3)"
   ]
  },
  {
   "cell_type": "code",
   "execution_count": 11,
   "metadata": {},
   "outputs": [
    {
     "data": {
      "text/plain": [
       "array([[0.35629198, 0.66557848, 0.18855673],\n",
       "       [0.13644471, 0.72537835, 0.58267408]])"
      ]
     },
     "execution_count": 11,
     "metadata": {},
     "output_type": "execute_result"
    }
   ],
   "source": [
    "np.random.random((2,3))"
   ]
  },
  {
   "cell_type": "code",
   "execution_count": 17,
   "metadata": {},
   "outputs": [
    {
     "data": {
      "text/plain": [
       "array([ 0.,  1.,  2.,  3.,  4.,  5.,  6.,  7.,  8.,  9., 10., 11., 12.,\n",
       "       13., 14., 15., 16., 17., 18., 19., 20., 21., 22., 23., 24., 25.,\n",
       "       26., 27., 28., 29., 30., 31., 32., 33., 34., 35., 36., 37., 38.,\n",
       "       39., 40., 41., 42., 43., 44., 45., 46., 47., 48., 49., 50., 51.,\n",
       "       52., 53., 54., 55., 56., 57., 58., 59., 60., 61., 62., 63., 64.,\n",
       "       65., 66., 67., 68., 69., 70., 71., 72., 73., 74., 75., 76., 77.,\n",
       "       78., 79., 80., 81., 82., 83., 84., 85., 86., 87., 88., 89., 90.,\n",
       "       91., 92., 93., 94., 95., 96., 97., 98., 99.])"
      ]
     },
     "execution_count": 17,
     "metadata": {},
     "output_type": "execute_result"
    }
   ],
   "source": [
    "from numpy import pi\n",
    "np.linspace( 0, 99, 100 )"
   ]
  },
  {
   "cell_type": "code",
   "execution_count": 13,
   "metadata": {},
   "outputs": [
    {
     "data": {
      "text/plain": [
       "array([  0.00000000e+00,   6.34239197e-02,   1.26592454e-01,\n",
       "         1.89251244e-01,   2.51147987e-01,   3.12033446e-01,\n",
       "         3.71662456e-01,   4.29794912e-01,   4.86196736e-01,\n",
       "         5.40640817e-01,   5.92907929e-01,   6.42787610e-01,\n",
       "         6.90079011e-01,   7.34591709e-01,   7.76146464e-01,\n",
       "         8.14575952e-01,   8.49725430e-01,   8.81453363e-01,\n",
       "         9.09631995e-01,   9.34147860e-01,   9.54902241e-01,\n",
       "         9.71811568e-01,   9.84807753e-01,   9.93838464e-01,\n",
       "         9.98867339e-01,   9.99874128e-01,   9.96854776e-01,\n",
       "         9.89821442e-01,   9.78802446e-01,   9.63842159e-01,\n",
       "         9.45000819e-01,   9.22354294e-01,   8.95993774e-01,\n",
       "         8.66025404e-01,   8.32569855e-01,   7.95761841e-01,\n",
       "         7.55749574e-01,   7.12694171e-01,   6.66769001e-01,\n",
       "         6.18158986e-01,   5.67059864e-01,   5.13677392e-01,\n",
       "         4.58226522e-01,   4.00930535e-01,   3.42020143e-01,\n",
       "         2.81732557e-01,   2.20310533e-01,   1.58001396e-01,\n",
       "         9.50560433e-02,   3.17279335e-02,  -3.17279335e-02,\n",
       "        -9.50560433e-02,  -1.58001396e-01,  -2.20310533e-01,\n",
       "        -2.81732557e-01,  -3.42020143e-01,  -4.00930535e-01,\n",
       "        -4.58226522e-01,  -5.13677392e-01,  -5.67059864e-01,\n",
       "        -6.18158986e-01,  -6.66769001e-01,  -7.12694171e-01,\n",
       "        -7.55749574e-01,  -7.95761841e-01,  -8.32569855e-01,\n",
       "        -8.66025404e-01,  -8.95993774e-01,  -9.22354294e-01,\n",
       "        -9.45000819e-01,  -9.63842159e-01,  -9.78802446e-01,\n",
       "        -9.89821442e-01,  -9.96854776e-01,  -9.99874128e-01,\n",
       "        -9.98867339e-01,  -9.93838464e-01,  -9.84807753e-01,\n",
       "        -9.71811568e-01,  -9.54902241e-01,  -9.34147860e-01,\n",
       "        -9.09631995e-01,  -8.81453363e-01,  -8.49725430e-01,\n",
       "        -8.14575952e-01,  -7.76146464e-01,  -7.34591709e-01,\n",
       "        -6.90079011e-01,  -6.42787610e-01,  -5.92907929e-01,\n",
       "        -5.40640817e-01,  -4.86196736e-01,  -4.29794912e-01,\n",
       "        -3.71662456e-01,  -3.12033446e-01,  -2.51147987e-01,\n",
       "        -1.89251244e-01,  -1.26592454e-01,  -6.34239197e-02,\n",
       "        -2.44929360e-16])"
      ]
     },
     "execution_count": 13,
     "metadata": {},
     "output_type": "execute_result"
    }
   ],
   "source": [
    "np.sin(np.linspace( 0, 2*pi, 100 ))"
   ]
  },
  {
   "cell_type": "code",
   "execution_count": 23,
   "metadata": {},
   "outputs": [
    {
     "name": "stdout",
     "output_type": "stream",
     "text": [
      "[20 29 38 47]\n",
      "----------\n",
      "[19 29 39 49]\n",
      "----------\n",
      "[0 1 4 9]\n"
     ]
    }
   ],
   "source": [
    "#the product operator * operates elementwise in NumPy arrays\n",
    "a = np.array( [20,30,40,50] )\n",
    "b = np.arange( 4 )\n",
    "#print a \n",
    "#print b\n",
    "#b\n",
    "# shape相同的情况下，ndarray是对应元素加减\n",
    "c = a-b\n",
    "print(c)\n",
    "print('----------')\n",
    "# 如果ndarray加减一个数，则为每个元素对应加减这个数\n",
    "d = a - 1\n",
    "print(d)\n",
    "print('----------')\n",
    "# 乘方同理\n",
    "print(b**2)\n"
   ]
  },
  {
   "cell_type": "code",
   "execution_count": 25,
   "metadata": {},
   "outputs": [
    {
     "name": "stdout",
     "output_type": "stream",
     "text": [
      "[[1 1]\n",
      " [0 1]]\n",
      "[[2 0]\n",
      " [3 4]]\n",
      "----------\n",
      "[[2 0]\n",
      " [0 4]]\n",
      "----------\n",
      "[[5 4]\n",
      " [3 4]]\n",
      "[[5 4]\n",
      " [3 4]]\n"
     ]
    }
   ],
   "source": [
    "#The matrix product can be performed using the dot function or method\n",
    "A = np.array( [[1,1],\n",
    "               [0,1]] )\n",
    "B = np.array( [[2,0],\n",
    "               [3,4]] )\n",
    "print(A)\n",
    "print(B)\n",
    "print('----------')\n",
    "# 对应元素乘\n",
    "print(A*B)\n",
    "print('----------')\n",
    "# 矩阵相乘，两种方法\n",
    "print(A.dot(B))\n",
    "print(np.dot(A, B) )"
   ]
  }
 ],
 "metadata": {
  "kernelspec": {
   "display_name": "Python 3",
   "language": "python",
   "name": "python3"
  },
  "language_info": {
   "codemirror_mode": {
    "name": "ipython",
    "version": 3
   },
   "file_extension": ".py",
   "mimetype": "text/x-python",
   "name": "python",
   "nbconvert_exporter": "python",
   "pygments_lexer": "ipython3",
   "version": "3.6.7"
  }
 },
 "nbformat": 4,
 "nbformat_minor": 1
}
